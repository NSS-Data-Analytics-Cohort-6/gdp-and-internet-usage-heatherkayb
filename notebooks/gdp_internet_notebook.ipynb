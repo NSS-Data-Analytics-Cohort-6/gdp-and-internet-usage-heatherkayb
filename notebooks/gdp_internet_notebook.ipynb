{
 "cells": [
  {
   "cell_type": "code",
   "execution_count": 1,
   "id": "133a4ccc",
   "metadata": {},
   "outputs": [],
   "source": [
    "import pandas as pd\n",
    "import numpy as np\n",
    "import matplotlib.pyplot as plt\n",
    "import seaborn as sns"
   ]
  },
  {
   "cell_type": "code",
   "execution_count": 2,
   "id": "b3a32a38",
   "metadata": {},
   "outputs": [],
   "source": [
    "%matplotlib inline"
   ]
  },
  {
   "cell_type": "code",
   "execution_count": 3,
   "id": "a5aecb07",
   "metadata": {},
   "outputs": [],
   "source": [
    "gdp_df = pd.read_csv(\"../data/gdp_percapita.csv\")"
   ]
  },
  {
   "cell_type": "code",
   "execution_count": 4,
   "id": "5dcc9d70",
   "metadata": {},
   "outputs": [
    {
     "data": {
      "text/html": [
       "<div>\n",
       "<style scoped>\n",
       "    .dataframe tbody tr th:only-of-type {\n",
       "        vertical-align: middle;\n",
       "    }\n",
       "\n",
       "    .dataframe tbody tr th {\n",
       "        vertical-align: top;\n",
       "    }\n",
       "\n",
       "    .dataframe thead th {\n",
       "        text-align: right;\n",
       "    }\n",
       "</style>\n",
       "<table border=\"1\" class=\"dataframe\">\n",
       "  <thead>\n",
       "    <tr style=\"text-align: right;\">\n",
       "      <th></th>\n",
       "      <th>Country or Area</th>\n",
       "      <th>Year</th>\n",
       "      <th>Value</th>\n",
       "      <th>Value Footnotes</th>\n",
       "    </tr>\n",
       "  </thead>\n",
       "  <tbody>\n",
       "    <tr>\n",
       "      <th>0</th>\n",
       "      <td>Afghanistan</td>\n",
       "      <td>2019</td>\n",
       "      <td>2065.036398</td>\n",
       "      <td>NaN</td>\n",
       "    </tr>\n",
       "    <tr>\n",
       "      <th>1</th>\n",
       "      <td>Afghanistan</td>\n",
       "      <td>2018</td>\n",
       "      <td>2033.779002</td>\n",
       "      <td>NaN</td>\n",
       "    </tr>\n",
       "    <tr>\n",
       "      <th>2</th>\n",
       "      <td>Afghanistan</td>\n",
       "      <td>2017</td>\n",
       "      <td>2058.383832</td>\n",
       "      <td>NaN</td>\n",
       "    </tr>\n",
       "    <tr>\n",
       "      <th>3</th>\n",
       "      <td>Afghanistan</td>\n",
       "      <td>2016</td>\n",
       "      <td>2057.062164</td>\n",
       "      <td>NaN</td>\n",
       "    </tr>\n",
       "    <tr>\n",
       "      <th>4</th>\n",
       "      <td>Afghanistan</td>\n",
       "      <td>2015</td>\n",
       "      <td>2068.265904</td>\n",
       "      <td>NaN</td>\n",
       "    </tr>\n",
       "  </tbody>\n",
       "</table>\n",
       "</div>"
      ],
      "text/plain": [
       "  Country or Area  Year        Value  Value Footnotes\n",
       "0     Afghanistan  2019  2065.036398              NaN\n",
       "1     Afghanistan  2018  2033.779002              NaN\n",
       "2     Afghanistan  2017  2058.383832              NaN\n",
       "3     Afghanistan  2016  2057.062164              NaN\n",
       "4     Afghanistan  2015  2068.265904              NaN"
      ]
     },
     "execution_count": 4,
     "metadata": {},
     "output_type": "execute_result"
    }
   ],
   "source": [
    "gdp_df.head()"
   ]
  },
  {
   "cell_type": "code",
   "execution_count": 5,
   "id": "63b88a5b",
   "metadata": {},
   "outputs": [],
   "source": [
    "internet_df = pd.read_csv('../data/internet_use.csv',nrows=4496)"
   ]
  },
  {
   "cell_type": "code",
   "execution_count": 6,
   "id": "7bc063ad",
   "metadata": {},
   "outputs": [
    {
     "data": {
      "text/html": [
       "<div>\n",
       "<style scoped>\n",
       "    .dataframe tbody tr th:only-of-type {\n",
       "        vertical-align: middle;\n",
       "    }\n",
       "\n",
       "    .dataframe tbody tr th {\n",
       "        vertical-align: top;\n",
       "    }\n",
       "\n",
       "    .dataframe thead th {\n",
       "        text-align: right;\n",
       "    }\n",
       "</style>\n",
       "<table border=\"1\" class=\"dataframe\">\n",
       "  <thead>\n",
       "    <tr style=\"text-align: right;\">\n",
       "      <th></th>\n",
       "      <th>Country or Area</th>\n",
       "      <th>Year</th>\n",
       "      <th>Value</th>\n",
       "      <th>Value Footnotes</th>\n",
       "    </tr>\n",
       "  </thead>\n",
       "  <tbody>\n",
       "    <tr>\n",
       "      <th>0</th>\n",
       "      <td>Afghanistan</td>\n",
       "      <td>2014</td>\n",
       "      <td>6.390000</td>\n",
       "      <td>NaN</td>\n",
       "    </tr>\n",
       "    <tr>\n",
       "      <th>1</th>\n",
       "      <td>Afghanistan</td>\n",
       "      <td>2013</td>\n",
       "      <td>5.900000</td>\n",
       "      <td>NaN</td>\n",
       "    </tr>\n",
       "    <tr>\n",
       "      <th>2</th>\n",
       "      <td>Afghanistan</td>\n",
       "      <td>2012</td>\n",
       "      <td>5.454545</td>\n",
       "      <td>NaN</td>\n",
       "    </tr>\n",
       "    <tr>\n",
       "      <th>3</th>\n",
       "      <td>Afghanistan</td>\n",
       "      <td>2011</td>\n",
       "      <td>5.000000</td>\n",
       "      <td>NaN</td>\n",
       "    </tr>\n",
       "    <tr>\n",
       "      <th>4</th>\n",
       "      <td>Afghanistan</td>\n",
       "      <td>2010</td>\n",
       "      <td>4.000000</td>\n",
       "      <td>NaN</td>\n",
       "    </tr>\n",
       "    <tr>\n",
       "      <th>5</th>\n",
       "      <td>Afghanistan</td>\n",
       "      <td>2009</td>\n",
       "      <td>3.550000</td>\n",
       "      <td>NaN</td>\n",
       "    </tr>\n",
       "  </tbody>\n",
       "</table>\n",
       "</div>"
      ],
      "text/plain": [
       "  Country or Area  Year     Value  Value Footnotes\n",
       "0     Afghanistan  2014  6.390000              NaN\n",
       "1     Afghanistan  2013  5.900000              NaN\n",
       "2     Afghanistan  2012  5.454545              NaN\n",
       "3     Afghanistan  2011  5.000000              NaN\n",
       "4     Afghanistan  2010  4.000000              NaN\n",
       "5     Afghanistan  2009  3.550000              NaN"
      ]
     },
     "execution_count": 6,
     "metadata": {},
     "output_type": "execute_result"
    }
   ],
   "source": [
    "internet_df.head(6)"
   ]
  },
  {
   "cell_type": "markdown",
   "id": "d7aa3165",
   "metadata": {},
   "source": [
    "7. Look at the shape of each DataFrame - how many rows? How many columns?"
   ]
  },
  {
   "cell_type": "code",
   "execution_count": 7,
   "id": "e437297d",
   "metadata": {},
   "outputs": [
    {
     "data": {
      "text/plain": [
       "(6870, 4)"
      ]
     },
     "execution_count": 7,
     "metadata": {},
     "output_type": "execute_result"
    }
   ],
   "source": [
    "gdp_df.shape"
   ]
  },
  {
   "cell_type": "code",
   "execution_count": 8,
   "id": "16ffa5b3",
   "metadata": {},
   "outputs": [
    {
     "data": {
      "text/plain": [
       "(4496, 4)"
      ]
     },
     "execution_count": 8,
     "metadata": {},
     "output_type": "execute_result"
    }
   ],
   "source": [
    "internet_df.shape"
   ]
  },
  {
   "cell_type": "markdown",
   "id": "92880d8e",
   "metadata": {},
   "source": [
    "8. Take a look at the datatypes for the columns in each DataFrame."
   ]
  },
  {
   "cell_type": "code",
   "execution_count": 9,
   "id": "d3ea7894",
   "metadata": {},
   "outputs": [
    {
     "data": {
      "text/plain": [
       "Country or Area     object\n",
       "Year                object\n",
       "Value              float64\n",
       "Value Footnotes    float64\n",
       "dtype: object"
      ]
     },
     "execution_count": 9,
     "metadata": {},
     "output_type": "execute_result"
    }
   ],
   "source": [
    "gdp_df.dtypes"
   ]
  },
  {
   "cell_type": "code",
   "execution_count": 10,
   "id": "3aaa0280",
   "metadata": {},
   "outputs": [
    {
     "data": {
      "text/plain": [
       "Country or Area     object\n",
       "Year                object\n",
       "Value              float64\n",
       "Value Footnotes    float64\n",
       "dtype: object"
      ]
     },
     "execution_count": 10,
     "metadata": {},
     "output_type": "execute_result"
    }
   ],
   "source": [
    "internet_df.dtypes"
   ]
  },
  {
   "cell_type": "markdown",
   "id": "d2979e37",
   "metadata": {},
   "source": [
    "9. Take a look at the last 10 rows of each DataFrame in turn."
   ]
  },
  {
   "cell_type": "code",
   "execution_count": 11,
   "id": "b890e306",
   "metadata": {},
   "outputs": [
    {
     "data": {
      "text/html": [
       "<div>\n",
       "<style scoped>\n",
       "    .dataframe tbody tr th:only-of-type {\n",
       "        vertical-align: middle;\n",
       "    }\n",
       "\n",
       "    .dataframe tbody tr th {\n",
       "        vertical-align: top;\n",
       "    }\n",
       "\n",
       "    .dataframe thead th {\n",
       "        text-align: right;\n",
       "    }\n",
       "</style>\n",
       "<table border=\"1\" class=\"dataframe\">\n",
       "  <thead>\n",
       "    <tr style=\"text-align: right;\">\n",
       "      <th></th>\n",
       "      <th>Country or Area</th>\n",
       "      <th>Year</th>\n",
       "      <th>Value</th>\n",
       "      <th>Value Footnotes</th>\n",
       "    </tr>\n",
       "  </thead>\n",
       "  <tbody>\n",
       "    <tr>\n",
       "      <th>6860</th>\n",
       "      <td>Zimbabwe</td>\n",
       "      <td>1997</td>\n",
       "      <td>3580.048793</td>\n",
       "      <td>NaN</td>\n",
       "    </tr>\n",
       "    <tr>\n",
       "      <th>6861</th>\n",
       "      <td>Zimbabwe</td>\n",
       "      <td>1996</td>\n",
       "      <td>3520.430146</td>\n",
       "      <td>NaN</td>\n",
       "    </tr>\n",
       "    <tr>\n",
       "      <th>6862</th>\n",
       "      <td>Zimbabwe</td>\n",
       "      <td>1995</td>\n",
       "      <td>3226.413930</td>\n",
       "      <td>NaN</td>\n",
       "    </tr>\n",
       "    <tr>\n",
       "      <th>6863</th>\n",
       "      <td>Zimbabwe</td>\n",
       "      <td>1994</td>\n",
       "      <td>3263.934978</td>\n",
       "      <td>NaN</td>\n",
       "    </tr>\n",
       "    <tr>\n",
       "      <th>6864</th>\n",
       "      <td>Zimbabwe</td>\n",
       "      <td>1993</td>\n",
       "      <td>3033.504852</td>\n",
       "      <td>NaN</td>\n",
       "    </tr>\n",
       "    <tr>\n",
       "      <th>6865</th>\n",
       "      <td>Zimbabwe</td>\n",
       "      <td>1992</td>\n",
       "      <td>3054.889178</td>\n",
       "      <td>NaN</td>\n",
       "    </tr>\n",
       "    <tr>\n",
       "      <th>6866</th>\n",
       "      <td>Zimbabwe</td>\n",
       "      <td>1991</td>\n",
       "      <td>3426.598094</td>\n",
       "      <td>NaN</td>\n",
       "    </tr>\n",
       "    <tr>\n",
       "      <th>6867</th>\n",
       "      <td>Zimbabwe</td>\n",
       "      <td>1990</td>\n",
       "      <td>3324.348171</td>\n",
       "      <td>NaN</td>\n",
       "    </tr>\n",
       "    <tr>\n",
       "      <th>6868</th>\n",
       "      <td>footnoteSeqID</td>\n",
       "      <td>Footnote</td>\n",
       "      <td>NaN</td>\n",
       "      <td>NaN</td>\n",
       "    </tr>\n",
       "    <tr>\n",
       "      <th>6869</th>\n",
       "      <td>2</td>\n",
       "      <td>Excludes South Sudan after July 9, 2011.</td>\n",
       "      <td>NaN</td>\n",
       "      <td>NaN</td>\n",
       "    </tr>\n",
       "  </tbody>\n",
       "</table>\n",
       "</div>"
      ],
      "text/plain": [
       "     Country or Area                                      Year        Value  \\\n",
       "6860        Zimbabwe                                      1997  3580.048793   \n",
       "6861        Zimbabwe                                      1996  3520.430146   \n",
       "6862        Zimbabwe                                      1995  3226.413930   \n",
       "6863        Zimbabwe                                      1994  3263.934978   \n",
       "6864        Zimbabwe                                      1993  3033.504852   \n",
       "6865        Zimbabwe                                      1992  3054.889178   \n",
       "6866        Zimbabwe                                      1991  3426.598094   \n",
       "6867        Zimbabwe                                      1990  3324.348171   \n",
       "6868   footnoteSeqID                                  Footnote          NaN   \n",
       "6869               2  Excludes South Sudan after July 9, 2011.          NaN   \n",
       "\n",
       "      Value Footnotes  \n",
       "6860              NaN  \n",
       "6861              NaN  \n",
       "6862              NaN  \n",
       "6863              NaN  \n",
       "6864              NaN  \n",
       "6865              NaN  \n",
       "6866              NaN  \n",
       "6867              NaN  \n",
       "6868              NaN  \n",
       "6869              NaN  "
      ]
     },
     "execution_count": 11,
     "metadata": {},
     "output_type": "execute_result"
    }
   ],
   "source": [
    "gdp_df.tail(10)"
   ]
  },
  {
   "cell_type": "code",
   "execution_count": 12,
   "id": "1460faf5",
   "metadata": {},
   "outputs": [
    {
     "data": {
      "text/html": [
       "<div>\n",
       "<style scoped>\n",
       "    .dataframe tbody tr th:only-of-type {\n",
       "        vertical-align: middle;\n",
       "    }\n",
       "\n",
       "    .dataframe tbody tr th {\n",
       "        vertical-align: top;\n",
       "    }\n",
       "\n",
       "    .dataframe thead th {\n",
       "        text-align: right;\n",
       "    }\n",
       "</style>\n",
       "<table border=\"1\" class=\"dataframe\">\n",
       "  <thead>\n",
       "    <tr style=\"text-align: right;\">\n",
       "      <th></th>\n",
       "      <th>Country or Area</th>\n",
       "      <th>Year</th>\n",
       "      <th>Value</th>\n",
       "      <th>Value Footnotes</th>\n",
       "    </tr>\n",
       "  </thead>\n",
       "  <tbody>\n",
       "    <tr>\n",
       "      <th>4486</th>\n",
       "      <td>Zimbabwe</td>\n",
       "      <td>2001</td>\n",
       "      <td>0.799846</td>\n",
       "      <td>NaN</td>\n",
       "    </tr>\n",
       "    <tr>\n",
       "      <th>4487</th>\n",
       "      <td>Zimbabwe</td>\n",
       "      <td>2000</td>\n",
       "      <td>0.401434</td>\n",
       "      <td>NaN</td>\n",
       "    </tr>\n",
       "    <tr>\n",
       "      <th>4488</th>\n",
       "      <td>Zimbabwe</td>\n",
       "      <td>1999</td>\n",
       "      <td>0.161676</td>\n",
       "      <td>NaN</td>\n",
       "    </tr>\n",
       "    <tr>\n",
       "      <th>4489</th>\n",
       "      <td>Zimbabwe</td>\n",
       "      <td>1998</td>\n",
       "      <td>0.081648</td>\n",
       "      <td>NaN</td>\n",
       "    </tr>\n",
       "    <tr>\n",
       "      <th>4490</th>\n",
       "      <td>Zimbabwe</td>\n",
       "      <td>1997</td>\n",
       "      <td>0.033080</td>\n",
       "      <td>NaN</td>\n",
       "    </tr>\n",
       "    <tr>\n",
       "      <th>4491</th>\n",
       "      <td>Zimbabwe</td>\n",
       "      <td>1996</td>\n",
       "      <td>0.016790</td>\n",
       "      <td>NaN</td>\n",
       "    </tr>\n",
       "    <tr>\n",
       "      <th>4492</th>\n",
       "      <td>Zimbabwe</td>\n",
       "      <td>1995</td>\n",
       "      <td>0.007684</td>\n",
       "      <td>NaN</td>\n",
       "    </tr>\n",
       "    <tr>\n",
       "      <th>4493</th>\n",
       "      <td>Zimbabwe</td>\n",
       "      <td>1994</td>\n",
       "      <td>0.001739</td>\n",
       "      <td>NaN</td>\n",
       "    </tr>\n",
       "    <tr>\n",
       "      <th>4494</th>\n",
       "      <td>Zimbabwe</td>\n",
       "      <td>1990</td>\n",
       "      <td>0.000000</td>\n",
       "      <td>NaN</td>\n",
       "    </tr>\n",
       "    <tr>\n",
       "      <th>4495</th>\n",
       "      <td>footnoteSeqID</td>\n",
       "      <td>Footnote</td>\n",
       "      <td>NaN</td>\n",
       "      <td>NaN</td>\n",
       "    </tr>\n",
       "  </tbody>\n",
       "</table>\n",
       "</div>"
      ],
      "text/plain": [
       "     Country or Area      Year     Value  Value Footnotes\n",
       "4486        Zimbabwe      2001  0.799846              NaN\n",
       "4487        Zimbabwe      2000  0.401434              NaN\n",
       "4488        Zimbabwe      1999  0.161676              NaN\n",
       "4489        Zimbabwe      1998  0.081648              NaN\n",
       "4490        Zimbabwe      1997  0.033080              NaN\n",
       "4491        Zimbabwe      1996  0.016790              NaN\n",
       "4492        Zimbabwe      1995  0.007684              NaN\n",
       "4493        Zimbabwe      1994  0.001739              NaN\n",
       "4494        Zimbabwe      1990  0.000000              NaN\n",
       "4495   footnoteSeqID  Footnote       NaN              NaN"
      ]
     },
     "execution_count": 12,
     "metadata": {},
     "output_type": "execute_result"
    }
   ],
   "source": [
    "internet_df.tail(10)"
   ]
  },
  {
   "cell_type": "markdown",
   "id": "ea2b4d84",
   "metadata": {},
   "source": [
    "10. Drop the value footnotes column from both DataFrames. Check that this worked as expected."
   ]
  },
  {
   "cell_type": "code",
   "execution_count": 13,
   "id": "f448beab",
   "metadata": {},
   "outputs": [],
   "source": [
    "gdp_df = gdp_df.drop('Value Footnotes',axis=1)"
   ]
  },
  {
   "cell_type": "code",
   "execution_count": 14,
   "id": "e92cff3f",
   "metadata": {},
   "outputs": [],
   "source": [
    "internet_df = internet_df.drop('Value Footnotes',axis=1)"
   ]
  },
  {
   "cell_type": "markdown",
   "id": "bbd026ba",
   "metadata": {},
   "source": [
    "11. Change the columns for the GDP Per Capita DataFrame to ‘Country’, ‘Year’, and ‘GDP_Per_Capita’."
   ]
  },
  {
   "cell_type": "code",
   "execution_count": 15,
   "id": "1e17d361",
   "metadata": {},
   "outputs": [],
   "source": [
    "gdp_df = gdp_df.rename(columns={\"Country or Area\":\"Country\", \"Year\":\"Year\", \"Value\":\"GDP_Per_Capita\"})"
   ]
  },
  {
   "cell_type": "markdown",
   "id": "2aabe21e",
   "metadata": {},
   "source": [
    "12. Change the columns for the Internet Users DataFrame to ‘Country’, ‘Year’, and ‘Internet_Users_Pct’."
   ]
  },
  {
   "cell_type": "code",
   "execution_count": 16,
   "id": "f272ff9a",
   "metadata": {},
   "outputs": [],
   "source": [
    "internet_df = internet_df.rename(columns={\"Country or Area\":\"Country\", \"Year\":\"Year\", \"Value\":\"Internet_Users_Pct\"})"
   ]
  },
  {
   "cell_type": "markdown",
   "id": "c30762ed",
   "metadata": {},
   "source": [
    "13.  Merge the two DataFrames to one. Merge all rows from each of the two DataFrames. Call the new DataFrame gdp_and_internet_use."
   ]
  },
  {
   "cell_type": "code",
   "execution_count": 17,
   "id": "8a9b0e5b",
   "metadata": {},
   "outputs": [
    {
     "name": "stdout",
     "output_type": "stream",
     "text": [
      "<class 'pandas.core.frame.DataFrame'>\n",
      "Int64Index: 3459 entries, 0 to 3458\n",
      "Data columns (total 4 columns):\n",
      " #   Column              Non-Null Count  Dtype  \n",
      "---  ------              --------------  -----  \n",
      " 0   Country             3459 non-null   object \n",
      " 1   Year                3459 non-null   object \n",
      " 2   GDP_Per_Capita      3458 non-null   float64\n",
      " 3   Internet_Users_Pct  3458 non-null   float64\n",
      "dtypes: float64(2), object(2)\n",
      "memory usage: 135.1+ KB\n"
     ]
    }
   ],
   "source": [
    "gdp_and_internet_use = pd.merge(gdp_df, internet_df, how='inner')\n",
    "gdp_and_internet_use.info()"
   ]
  },
  {
   "cell_type": "markdown",
   "id": "8e5c169a",
   "metadata": {},
   "source": [
    "14. Look at the first five rows of your new DataFrame to confirm it merged correctly."
   ]
  },
  {
   "cell_type": "code",
   "execution_count": 18,
   "id": "94163292",
   "metadata": {},
   "outputs": [
    {
     "data": {
      "text/html": [
       "<div>\n",
       "<style scoped>\n",
       "    .dataframe tbody tr th:only-of-type {\n",
       "        vertical-align: middle;\n",
       "    }\n",
       "\n",
       "    .dataframe tbody tr th {\n",
       "        vertical-align: top;\n",
       "    }\n",
       "\n",
       "    .dataframe thead th {\n",
       "        text-align: right;\n",
       "    }\n",
       "</style>\n",
       "<table border=\"1\" class=\"dataframe\">\n",
       "  <thead>\n",
       "    <tr style=\"text-align: right;\">\n",
       "      <th></th>\n",
       "      <th>Country</th>\n",
       "      <th>Year</th>\n",
       "      <th>GDP_Per_Capita</th>\n",
       "      <th>Internet_Users_Pct</th>\n",
       "    </tr>\n",
       "  </thead>\n",
       "  <tbody>\n",
       "    <tr>\n",
       "      <th>0</th>\n",
       "      <td>Afghanistan</td>\n",
       "      <td>2014</td>\n",
       "      <td>2102.385234</td>\n",
       "      <td>6.390000</td>\n",
       "    </tr>\n",
       "    <tr>\n",
       "      <th>1</th>\n",
       "      <td>Afghanistan</td>\n",
       "      <td>2013</td>\n",
       "      <td>2116.465454</td>\n",
       "      <td>5.900000</td>\n",
       "    </tr>\n",
       "    <tr>\n",
       "      <th>2</th>\n",
       "      <td>Afghanistan</td>\n",
       "      <td>2012</td>\n",
       "      <td>2075.491747</td>\n",
       "      <td>5.454545</td>\n",
       "    </tr>\n",
       "    <tr>\n",
       "      <th>3</th>\n",
       "      <td>Afghanistan</td>\n",
       "      <td>2011</td>\n",
       "      <td>1904.559799</td>\n",
       "      <td>5.000000</td>\n",
       "    </tr>\n",
       "    <tr>\n",
       "      <th>4</th>\n",
       "      <td>Afghanistan</td>\n",
       "      <td>2010</td>\n",
       "      <td>1957.029338</td>\n",
       "      <td>4.000000</td>\n",
       "    </tr>\n",
       "  </tbody>\n",
       "</table>\n",
       "</div>"
      ],
      "text/plain": [
       "       Country  Year  GDP_Per_Capita  Internet_Users_Pct\n",
       "0  Afghanistan  2014     2102.385234            6.390000\n",
       "1  Afghanistan  2013     2116.465454            5.900000\n",
       "2  Afghanistan  2012     2075.491747            5.454545\n",
       "3  Afghanistan  2011     1904.559799            5.000000\n",
       "4  Afghanistan  2010     1957.029338            4.000000"
      ]
     },
     "execution_count": 18,
     "metadata": {},
     "output_type": "execute_result"
    }
   ],
   "source": [
    "gdp_and_internet_use.head(5)"
   ]
  },
  {
   "cell_type": "markdown",
   "id": "c15d6545",
   "metadata": {},
   "source": [
    "15. Look at the last five rows to make sure the data is clean and as expected."
   ]
  },
  {
   "cell_type": "code",
   "execution_count": 19,
   "id": "1aad0c61",
   "metadata": {},
   "outputs": [
    {
     "data": {
      "text/html": [
       "<div>\n",
       "<style scoped>\n",
       "    .dataframe tbody tr th:only-of-type {\n",
       "        vertical-align: middle;\n",
       "    }\n",
       "\n",
       "    .dataframe tbody tr th {\n",
       "        vertical-align: top;\n",
       "    }\n",
       "\n",
       "    .dataframe thead th {\n",
       "        text-align: right;\n",
       "    }\n",
       "</style>\n",
       "<table border=\"1\" class=\"dataframe\">\n",
       "  <thead>\n",
       "    <tr style=\"text-align: right;\">\n",
       "      <th></th>\n",
       "      <th>Country</th>\n",
       "      <th>Year</th>\n",
       "      <th>GDP_Per_Capita</th>\n",
       "      <th>Internet_Users_Pct</th>\n",
       "    </tr>\n",
       "  </thead>\n",
       "  <tbody>\n",
       "    <tr>\n",
       "      <th>3454</th>\n",
       "      <td>Zimbabwe</td>\n",
       "      <td>1996</td>\n",
       "      <td>3520.430146</td>\n",
       "      <td>0.016790</td>\n",
       "    </tr>\n",
       "    <tr>\n",
       "      <th>3455</th>\n",
       "      <td>Zimbabwe</td>\n",
       "      <td>1995</td>\n",
       "      <td>3226.413930</td>\n",
       "      <td>0.007684</td>\n",
       "    </tr>\n",
       "    <tr>\n",
       "      <th>3456</th>\n",
       "      <td>Zimbabwe</td>\n",
       "      <td>1994</td>\n",
       "      <td>3263.934978</td>\n",
       "      <td>0.001739</td>\n",
       "    </tr>\n",
       "    <tr>\n",
       "      <th>3457</th>\n",
       "      <td>Zimbabwe</td>\n",
       "      <td>1990</td>\n",
       "      <td>3324.348171</td>\n",
       "      <td>0.000000</td>\n",
       "    </tr>\n",
       "    <tr>\n",
       "      <th>3458</th>\n",
       "      <td>footnoteSeqID</td>\n",
       "      <td>Footnote</td>\n",
       "      <td>NaN</td>\n",
       "      <td>NaN</td>\n",
       "    </tr>\n",
       "  </tbody>\n",
       "</table>\n",
       "</div>"
      ],
      "text/plain": [
       "            Country      Year  GDP_Per_Capita  Internet_Users_Pct\n",
       "3454       Zimbabwe      1996     3520.430146            0.016790\n",
       "3455       Zimbabwe      1995     3226.413930            0.007684\n",
       "3456       Zimbabwe      1994     3263.934978            0.001739\n",
       "3457       Zimbabwe      1990     3324.348171            0.000000\n",
       "3458  footnoteSeqID  Footnote             NaN                 NaN"
      ]
     },
     "execution_count": 19,
     "metadata": {},
     "output_type": "execute_result"
    }
   ],
   "source": [
    "gdp_and_internet_use.tail(5)"
   ]
  },
  {
   "cell_type": "markdown",
   "id": "37cc643f",
   "metadata": {},
   "source": [
    "16. Subset the combined DataFrame to keep only the data for 2004, 2009, and 2014. Check that this happened correctly."
   ]
  },
  {
   "cell_type": "code",
   "execution_count": 20,
   "id": "035edbf0",
   "metadata": {},
   "outputs": [],
   "source": [
    "array = ['2004', '2009', '2014']\n",
    "gdp_and_internet_use = gdp_and_internet_use.loc[gdp_and_internet_use['Year'].isin(array)]"
   ]
  },
  {
   "cell_type": "code",
   "execution_count": 21,
   "id": "db2009c3",
   "metadata": {},
   "outputs": [
    {
     "name": "stdout",
     "output_type": "stream",
     "text": [
      "          Country  Year  GDP_Per_Capita  Internet_Users_Pct\n",
      "0     Afghanistan  2014     2102.385234            6.390000\n",
      "5     Afghanistan  2009     1758.904043            3.550000\n",
      "10    Afghanistan  2004     1200.278256            0.105809\n",
      "13        Albania  2014    11623.866679           60.100000\n",
      "18        Albania  2009    10346.864199           41.200000\n",
      "...           ...   ...             ...                 ...\n",
      "3419       Zambia  2009     2917.516220            6.310000\n",
      "3424       Zambia  2004     2261.766537            2.013550\n",
      "3436     Zimbabwe  2014     2955.240287           19.890000\n",
      "3441     Zimbabwe  2009     1925.364381           11.360000\n",
      "3446     Zimbabwe  2004     2480.859342            6.564045\n",
      "\n",
      "[482 rows x 4 columns]\n"
     ]
    }
   ],
   "source": [
    "print(gdp_and_internet_use)"
   ]
  },
  {
   "cell_type": "markdown",
   "id": "ff5f0daa",
   "metadata": {},
   "source": [
    "17. Create three new DataFrames, one for 2004, one for 2009, and one for 2014. Give them meaningful names that aren't too long."
   ]
  },
  {
   "cell_type": "code",
   "execution_count": 22,
   "id": "ef520337",
   "metadata": {},
   "outputs": [],
   "source": [
    "gdp_internet_2004 = gdp_and_internet_use[(gdp_and_internet_use.Year == \"2004\")]"
   ]
  },
  {
   "cell_type": "code",
   "execution_count": 23,
   "id": "e4dc99ae",
   "metadata": {},
   "outputs": [],
   "source": [
    "gdp_internet_2009 = gdp_and_internet_use[(gdp_and_internet_use.Year == \"2009\")]"
   ]
  },
  {
   "cell_type": "code",
   "execution_count": 24,
   "id": "08c01d89",
   "metadata": {},
   "outputs": [],
   "source": [
    "gdp_internet_2014 = gdp_and_internet_use[(gdp_and_internet_use.Year == \"2014\")]"
   ]
  },
  {
   "cell_type": "code",
   "execution_count": 25,
   "id": "5f691590",
   "metadata": {},
   "outputs": [
    {
     "name": "stdout",
     "output_type": "stream",
     "text": [
      "                  Country  Year  GDP_Per_Capita  Internet_Users_Pct\n",
      "0             Afghanistan  2014     2102.385234                6.39\n",
      "13                Albania  2014    11623.866679               60.10\n",
      "34                Algeria  2014    11512.705405               18.09\n",
      "56                 Angola  2014     8239.828837               21.26\n",
      "76    Antigua and Barbuda  2014    18104.241470               64.00\n",
      "...                   ...   ...             ...                 ...\n",
      "3351              Uruguay  2014    20582.168953               61.46\n",
      "3373           Uzbekistan  2014     5764.492705               43.55\n",
      "3394              Vanuatu  2014     3116.077025               18.80\n",
      "3414               Zambia  2014     3450.046561               17.34\n",
      "3436             Zimbabwe  2014     2955.240287               19.89\n",
      "\n",
      "[163 rows x 4 columns]\n"
     ]
    }
   ],
   "source": [
    "print(gdp_internet_2014) "
   ]
  },
  {
   "cell_type": "markdown",
   "id": "22e19e6c",
   "metadata": {},
   "source": [
    "18. Which country had the highest percentage of internet users in 2014? What was the percentage? (Try typing the first 3 letters of your DataFrame name and hitting the tab key for auto-complete options)."
   ]
  },
  {
   "cell_type": "code",
   "execution_count": 26,
   "id": "0380ac0a",
   "metadata": {},
   "outputs": [
    {
     "data": {
      "text/plain": [
       "98.16"
      ]
     },
     "execution_count": 26,
     "metadata": {},
     "output_type": "execute_result"
    }
   ],
   "source": [
    "gdp_internet_2014['Internet_Users_Pct'].max()"
   ]
  },
  {
   "cell_type": "code",
   "execution_count": 27,
   "id": "3e385613",
   "metadata": {},
   "outputs": [
    {
     "data": {
      "text/plain": [
       "1381"
      ]
     },
     "execution_count": 27,
     "metadata": {},
     "output_type": "execute_result"
    }
   ],
   "source": [
    "gdp_internet_2014['Internet_Users_Pct'].idxmax()"
   ]
  },
  {
   "cell_type": "code",
   "execution_count": 28,
   "id": "f74d6715",
   "metadata": {},
   "outputs": [
    {
     "data": {
      "text/plain": [
       "Country                  Iceland\n",
       "Year                        2014\n",
       "GDP_Per_Capita        49652.1495\n",
       "Internet_Users_Pct         98.16\n",
       "Name: 1381, dtype: object"
      ]
     },
     "execution_count": 28,
     "metadata": {},
     "output_type": "execute_result"
    }
   ],
   "source": [
    "gdp_internet_2014.loc[1381]"
   ]
  },
  {
   "cell_type": "markdown",
   "id": "1c093caf",
   "metadata": {},
   "source": [
    "19. Which country had the lowest percentage of internet users in 2014? What was the percentage?"
   ]
  },
  {
   "cell_type": "code",
   "execution_count": 29,
   "id": "48fe33b2",
   "metadata": {},
   "outputs": [
    {
     "data": {
      "text/plain": [
       "1.14"
      ]
     },
     "execution_count": 29,
     "metadata": {},
     "output_type": "execute_result"
    }
   ],
   "source": [
    "gdp_internet_2014['Internet_Users_Pct'].min()"
   ]
  },
  {
   "cell_type": "code",
   "execution_count": 30,
   "id": "e8cf1bbd",
   "metadata": {},
   "outputs": [
    {
     "data": {
      "text/plain": [
       "3087"
      ]
     },
     "execution_count": 30,
     "metadata": {},
     "output_type": "execute_result"
    }
   ],
   "source": [
    "gdp_internet_2014['Internet_Users_Pct'].idxmin()"
   ]
  },
  {
   "cell_type": "code",
   "execution_count": 31,
   "id": "0f02a178",
   "metadata": {},
   "outputs": [
    {
     "data": {
      "text/plain": [
       "Country               Timor-Leste\n",
       "Year                         2014\n",
       "GDP_Per_Capita         3264.56807\n",
       "Internet_Users_Pct           1.14\n",
       "Name: 3087, dtype: object"
      ]
     },
     "execution_count": 31,
     "metadata": {},
     "output_type": "execute_result"
    }
   ],
   "source": [
    "gdp_internet_2014.loc[3087]"
   ]
  },
  {
   "cell_type": "markdown",
   "id": "f01da531",
   "metadata": {},
   "source": [
    "20. Repeat for 2004 and 2009."
   ]
  },
  {
   "cell_type": "code",
   "execution_count": 32,
   "id": "292b410c",
   "metadata": {},
   "outputs": [
    {
     "data": {
      "text/plain": [
       "1386"
      ]
     },
     "execution_count": 32,
     "metadata": {},
     "output_type": "execute_result"
    }
   ],
   "source": [
    "gdp_internet_2009['Internet_Users_Pct'].max()\n",
    "gdp_internet_2009['Internet_Users_Pct'].idxmax()"
   ]
  },
  {
   "cell_type": "code",
   "execution_count": 33,
   "id": "cc99628b",
   "metadata": {},
   "outputs": [
    {
     "data": {
      "text/plain": [
       "Country                    Iceland\n",
       "Year                          2009\n",
       "GDP_Per_Capita        48177.084123\n",
       "Internet_Users_Pct            93.0\n",
       "Name: 1386, dtype: object"
      ]
     },
     "execution_count": 33,
     "metadata": {},
     "output_type": "execute_result"
    }
   ],
   "source": [
    "gdp_internet_2009.loc[1386]"
   ]
  },
  {
   "cell_type": "code",
   "execution_count": 34,
   "id": "8ddf3b2d",
   "metadata": {},
   "outputs": [
    {
     "data": {
      "text/plain": [
       "2985"
      ]
     },
     "execution_count": 34,
     "metadata": {},
     "output_type": "execute_result"
    }
   ],
   "source": [
    "gdp_internet_2004['Internet_Users_Pct'].max()\n",
    "gdp_internet_2004['Internet_Users_Pct'].idxmax()"
   ]
  },
  {
   "cell_type": "code",
   "execution_count": 35,
   "id": "563ed58b",
   "metadata": {},
   "outputs": [
    {
     "data": {
      "text/plain": [
       "Country                     Sweden\n",
       "Year                          2004\n",
       "GDP_Per_Capita        44496.023401\n",
       "Internet_Users_Pct           83.89\n",
       "Name: 2985, dtype: object"
      ]
     },
     "execution_count": 35,
     "metadata": {},
     "output_type": "execute_result"
    }
   ],
   "source": [
    "gdp_internet_2004.loc[2985]"
   ]
  },
  {
   "cell_type": "markdown",
   "id": "822e49a1",
   "metadata": {},
   "source": [
    "21. Which country had the highest gdp per capita in 2014? What was the gdp per capita?"
   ]
  },
  {
   "cell_type": "code",
   "execution_count": 36,
   "id": "bcbba61c",
   "metadata": {},
   "outputs": [
    {
     "data": {
      "text/plain": [
       "1798"
      ]
     },
     "execution_count": 36,
     "metadata": {},
     "output_type": "execute_result"
    }
   ],
   "source": [
    "gdp_internet_2014['GDP_Per_Capita'].max()\n",
    "gdp_internet_2014['GDP_Per_Capita'].idxmax()"
   ]
  },
  {
   "cell_type": "code",
   "execution_count": 37,
   "id": "400ca53e",
   "metadata": {},
   "outputs": [
    {
     "data": {
      "text/plain": [
       "Country                 Luxembourg\n",
       "Year                          2014\n",
       "GDP_Per_Capita        108760.91603\n",
       "Internet_Users_Pct           94.67\n",
       "Name: 1798, dtype: object"
      ]
     },
     "execution_count": 37,
     "metadata": {},
     "output_type": "execute_result"
    }
   ],
   "source": [
    "gdp_internet_2014.loc[1798]"
   ]
  },
  {
   "cell_type": "markdown",
   "id": "4f83c469",
   "metadata": {},
   "source": [
    "22. Which country had the lowest gdp per capita in 2014? What was the gdp per capita?"
   ]
  },
  {
   "cell_type": "code",
   "execution_count": 38,
   "id": "83e9ce93",
   "metadata": {},
   "outputs": [
    {
     "data": {
      "text/plain": [
       "540"
      ]
     },
     "execution_count": 38,
     "metadata": {},
     "output_type": "execute_result"
    }
   ],
   "source": [
    "gdp_internet_2014['GDP_Per_Capita'].min()\n",
    "gdp_internet_2014['GDP_Per_Capita'].idxmin()"
   ]
  },
  {
   "cell_type": "code",
   "execution_count": 39,
   "id": "463ec565",
   "metadata": {},
   "outputs": [
    {
     "data": {
      "text/plain": [
       "Country                  Burundi\n",
       "Year                        2014\n",
       "GDP_Per_Capita        886.235777\n",
       "Internet_Users_Pct          1.38\n",
       "Name: 540, dtype: object"
      ]
     },
     "execution_count": 39,
     "metadata": {},
     "output_type": "execute_result"
    }
   ],
   "source": [
    "gdp_internet_2014.loc[540]"
   ]
  },
  {
   "cell_type": "markdown",
   "id": "24c5a081",
   "metadata": {},
   "source": [
    "23. Create some scatterplots:"
   ]
  },
  {
   "cell_type": "markdown",
   "id": "b59aa711",
   "metadata": {},
   "source": [
    "a. 2004 Percent Using the Internet vs GDP Per Capita"
   ]
  },
  {
   "cell_type": "code",
   "execution_count": 40,
   "id": "c3305e91",
   "metadata": {},
   "outputs": [
    {
     "data": {
      "text/plain": [
       "Text(0.5, 1.0, 'Internet Use and GDP in 2004')"
      ]
     },
     "execution_count": 40,
     "metadata": {},
     "output_type": "execute_result"
    },
    {
     "data": {
      "image/png": "[encoded data removed]",
      "text/plain": [
       "<Figure size 432x288 with 1 Axes>"
      ]
     },
     "metadata": {
      "needs_background": "light"
     },
     "output_type": "display_data"
    }
   ],
   "source": [
    "plt.scatter(gdp_internet_2004.Internet_Users_Pct, gdp_internet_2004.GDP_Per_Capita)\n",
    "plt.xlabel('Percent Using the Internet')\n",
    "plt.ylabel('GDP Per Capita')\n",
    "plt.title('Internet Use and GDP in 2004')"
   ]
  },
  {
   "cell_type": "markdown",
   "id": "211382ee",
   "metadata": {},
   "source": [
    "b. 2009 Percent Using the Internet vs GDP Per Capita"
   ]
  },
  {
   "cell_type": "code",
   "execution_count": 41,
   "id": "c09ad34c",
   "metadata": {},
   "outputs": [
    {
     "data": {
      "text/plain": [
       "Text(0.5, 1.0, 'Internet Use and GDP in 2009')"
      ]
     },
     "execution_count": 41,
     "metadata": {},
     "output_type": "execute_result"
    },
    {
     "data": {
      "image/png": "[encoded data removed]",
      "text/plain": [
       "<Figure size 432x288 with 1 Axes>"
      ]
     },
     "metadata": {
      "needs_background": "light"
     },
     "output_type": "display_data"
    }
   ],
   "source": [
    "plt.scatter(gdp_internet_2009.Internet_Users_Pct, gdp_internet_2009.GDP_Per_Capita)\n",
    "plt.xlabel('Percent Using the Internet')\n",
    "plt.ylabel('GDP Per Capita')\n",
    "plt.title('Internet Use and GDP in 2009')"
   ]
  },
  {
   "cell_type": "markdown",
   "id": "11c781bd",
   "metadata": {},
   "source": [
    "c. 2014 Percent Using the Internet vs GDP Per Capita"
   ]
  },
  {
   "cell_type": "code",
   "execution_count": 42,
   "id": "5c30d06f",
   "metadata": {},
   "outputs": [
    {
     "data": {
      "text/plain": [
       "Text(0.5, 1.0, 'Internet Use and GDP in 2014')"
      ]
     },
     "execution_count": 42,
     "metadata": {},
     "output_type": "execute_result"
    },
    {
     "data": {
      "image/png": "[encoded data removed]",
      "text/plain": [
       "<Figure size 432x288 with 1 Axes>"
      ]
     },
     "metadata": {
      "needs_background": "light"
     },
     "output_type": "display_data"
    }
   ],
   "source": [
    "plt.scatter(gdp_internet_2014.Internet_Users_Pct, gdp_internet_2014.GDP_Per_Capita)\n",
    "plt.xlabel('Percent Using the Internet')\n",
    "plt.ylabel('GDP Per Capita')\n",
    "plt.title('Internet Use and GDP in 2014')"
   ]
  },
  {
   "cell_type": "markdown",
   "id": "b5f96403",
   "metadata": {},
   "source": [
    "24. Are there differences across years? What do the plots tell you about any relationship between these two variables? Enter your observations as a markdown cell."
   ]
  },
  {
   "cell_type": "markdown",
   "id": "9d197777",
   "metadata": {},
   "source": [
    "The correlation between Internet Use and GDP becomes more linear and develops a stronger corrleation over time. "
   ]
  },
  {
   "cell_type": "markdown",
   "id": "9f8d293b",
   "metadata": {},
   "source": [
    "25. Look at the distribution of gdp per capita values for 2014. Is it unimodal?"
   ]
  },
  {
   "cell_type": "code",
   "execution_count": 43,
   "id": "77cce46c",
   "metadata": {},
   "outputs": [
    {
     "data": {
      "text/plain": [
       "(array([74., 32., 23., 10., 13.,  5.,  2.,  1.,  2.,  1.]),\n",
       " array([   886.23577678,  11673.70380211,  22461.17182744,  33248.63985277,\n",
       "         44036.1078781 ,  54823.57590343,  65611.04392876,  76398.51195409,\n",
       "         87185.97997942,  97973.44800475, 108760.91603008]),\n",
       " <BarContainer object of 10 artists>)"
      ]
     },
     "execution_count": 43,
     "metadata": {},
     "output_type": "execute_result"
    },
    {
     "data": {
      "image/png": "[encoded data removed]",
      "text/plain": [
       "<Figure size 432x288 with 1 Axes>"
      ]
     },
     "metadata": {
      "needs_background": "light"
     },
     "output_type": "display_data"
    }
   ],
   "source": [
    "plt.hist(gdp_internet_2014.GDP_Per_Capita)"
   ]
  },
  {
   "cell_type": "markdown",
   "id": "cfe19eda",
   "metadata": {},
   "source": [
    "It is generally unimodal, as it has one main high point. "
   ]
  },
  {
   "cell_type": "markdown",
   "id": "90753ee7",
   "metadata": {},
   "source": [
    "26. Look at the distribution of Internet Use for 2014. Is it unimodal?"
   ]
  },
  {
   "cell_type": "code",
   "execution_count": 44,
   "id": "affcfc0f",
   "metadata": {},
   "outputs": [
    {
     "data": {
      "text/plain": [
       "(array([29., 25.,  7.,  8., 23., 11., 16., 15., 16., 13.]),\n",
       " array([ 1.14 , 10.842, 20.544, 30.246, 39.948, 49.65 , 59.352, 69.054,\n",
       "        78.756, 88.458, 98.16 ]),\n",
       " <BarContainer object of 10 artists>)"
      ]
     },
     "execution_count": 44,
     "metadata": {},
     "output_type": "execute_result"
    },
    {
     "data": {
      "image/png": "[encoded data removed]",
      "text/plain": [
       "<Figure size 432x288 with 1 Axes>"
      ]
     },
     "metadata": {
      "needs_background": "light"
     },
     "output_type": "display_data"
    }
   ],
   "source": [
    "plt.hist(gdp_internet_2014.Internet_Users_Pct)"
   ]
  },
  {
   "cell_type": "markdown",
   "id": "3b88d561",
   "metadata": {},
   "source": [
    "It is not unimodal. "
   ]
  },
  {
   "cell_type": "markdown",
   "id": "abe74cd0",
   "metadata": {},
   "source": [
    "27. What are the top 5 countries in terms of internet use in 2014?"
   ]
  },
  {
   "cell_type": "code",
   "execution_count": 45,
   "id": "543f511f",
   "metadata": {},
   "outputs": [
    {
     "data": {
      "text/html": [
       "<div>\n",
       "<style scoped>\n",
       "    .dataframe tbody tr th:only-of-type {\n",
       "        vertical-align: middle;\n",
       "    }\n",
       "\n",
       "    .dataframe tbody tr th {\n",
       "        vertical-align: top;\n",
       "    }\n",
       "\n",
       "    .dataframe thead th {\n",
       "        text-align: right;\n",
       "    }\n",
       "</style>\n",
       "<table border=\"1\" class=\"dataframe\">\n",
       "  <thead>\n",
       "    <tr style=\"text-align: right;\">\n",
       "      <th></th>\n",
       "      <th>Country</th>\n",
       "      <th>Year</th>\n",
       "      <th>GDP_Per_Capita</th>\n",
       "      <th>Internet_Users_Pct</th>\n",
       "    </tr>\n",
       "  </thead>\n",
       "  <tbody>\n",
       "    <tr>\n",
       "      <th>1381</th>\n",
       "      <td>Iceland</td>\n",
       "      <td>2014</td>\n",
       "      <td>49652.149500</td>\n",
       "      <td>98.16</td>\n",
       "    </tr>\n",
       "    <tr>\n",
       "      <th>372</th>\n",
       "      <td>Bermuda</td>\n",
       "      <td>2014</td>\n",
       "      <td>77361.104881</td>\n",
       "      <td>96.80</td>\n",
       "    </tr>\n",
       "    <tr>\n",
       "      <th>2296</th>\n",
       "      <td>Norway</td>\n",
       "      <td>2014</td>\n",
       "      <td>62589.373548</td>\n",
       "      <td>96.30</td>\n",
       "    </tr>\n",
       "    <tr>\n",
       "      <th>854</th>\n",
       "      <td>Denmark</td>\n",
       "      <td>2014</td>\n",
       "      <td>52214.537753</td>\n",
       "      <td>95.99</td>\n",
       "    </tr>\n",
       "    <tr>\n",
       "      <th>1798</th>\n",
       "      <td>Luxembourg</td>\n",
       "      <td>2014</td>\n",
       "      <td>108760.916030</td>\n",
       "      <td>94.67</td>\n",
       "    </tr>\n",
       "  </tbody>\n",
       "</table>\n",
       "</div>"
      ],
      "text/plain": [
       "         Country  Year  GDP_Per_Capita  Internet_Users_Pct\n",
       "1381     Iceland  2014    49652.149500               98.16\n",
       "372      Bermuda  2014    77361.104881               96.80\n",
       "2296      Norway  2014    62589.373548               96.30\n",
       "854      Denmark  2014    52214.537753               95.99\n",
       "1798  Luxembourg  2014   108760.916030               94.67"
      ]
     },
     "execution_count": 45,
     "metadata": {},
     "output_type": "execute_result"
    }
   ],
   "source": [
    "gdp_internet_2014.nlargest(5, 'Internet_Users_Pct')"
   ]
  },
  {
   "cell_type": "markdown",
   "id": "0a05bb87",
   "metadata": {},
   "source": [
    "28. Create a DataFrame called top_5_internet from the combined DataFrame that has all three years for the 5 countries that had the greatest 2014 internet usage. You should have 15 rows. Check that this is true."
   ]
  },
  {
   "cell_type": "code",
   "execution_count": 46,
   "id": "d736f2ef",
   "metadata": {},
   "outputs": [],
   "source": [
    "filter1 = gdp_and_internet_use['Year'].isin(['2004', '2009', '2014'])"
   ]
  },
  {
   "cell_type": "code",
   "execution_count": 47,
   "id": "bba79632",
   "metadata": {},
   "outputs": [],
   "source": [
    "filter2 = gdp_and_internet_use['Country'].isin(['Iceland', 'Bermuda', 'Norway', 'Denmark', 'Luxembourg'])"
   ]
  },
  {
   "cell_type": "code",
   "execution_count": 48,
   "id": "d8f70494",
   "metadata": {},
   "outputs": [],
   "source": [
    "top_5_internet = gdp_and_internet_use[filter1]\n",
    "top_5_internet = gdp_and_internet_use[filter2]\n",
    "top_5_internet = top_5_internet.sort_values(by=['Year', 'Country'])"
   ]
  },
  {
   "cell_type": "code",
   "execution_count": 49,
   "id": "ee99d87d",
   "metadata": {},
   "outputs": [
    {
     "name": "stdout",
     "output_type": "stream",
     "text": [
      "         Country  Year  GDP_Per_Capita  Internet_Users_Pct\n",
      "382      Bermuda  2004    90195.811033           60.990867\n",
      "864      Denmark  2004    50607.628971           80.930000\n",
      "1391     Iceland  2004    45145.545658           83.880000\n",
      "1808  Luxembourg  2004   102708.212547           65.880000\n",
      "2306      Norway  2004    60893.410993           77.690000\n",
      "377      Bermuda  2009    89961.982744           83.250000\n",
      "859      Denmark  2009    50274.075696           86.840000\n",
      "1386     Iceland  2009    48177.084123           93.000000\n",
      "1803  Luxembourg  2009   104932.811953           87.310000\n",
      "2301      Norway  2009    61886.564498           92.080000\n",
      "372      Bermuda  2014    77361.104881           96.800000\n",
      "854      Denmark  2014    52214.537753           95.990000\n",
      "1381     Iceland  2014    49652.149500           98.160000\n",
      "1798  Luxembourg  2014   108760.916030           94.670000\n",
      "2296      Norway  2014    62589.373548           96.300000\n"
     ]
    }
   ],
   "source": [
    "print(top_5_internet)"
   ]
  },
  {
   "cell_type": "markdown",
   "id": "7eb7e4fd",
   "metadata": {},
   "source": [
    "29. Create a seaborn FacetGrid to show the internet usage trend across the years 2004, 2009, and 2014 for these 5 countries (those with the highest reported internet use in 2014). Which country had the greatest growth between 2004 and 2014?"
   ]
  },
  {
   "cell_type": "code",
   "execution_count": 50,
   "id": "55f5711c",
   "metadata": {},
   "outputs": [
    {
     "data": {
      "text/plain": [
       "<seaborn.axisgrid.FacetGrid at 0x23fc489fb50>"
      ]
     },
     "execution_count": 50,
     "metadata": {},
     "output_type": "execute_result"
    },
    {
     "data": {
      "image/png": "[encoded data removed]",
      "text/plain": [
       "<Figure size 1080x216 with 5 Axes>"
      ]
     },
     "metadata": {
      "needs_background": "light"
     },
     "output_type": "display_data"
    }
   ],
   "source": [
    "g = sns.FacetGrid(top_5_internet, col='Country')\n",
    "g.map(sns.lineplot, 'Year', 'Internet_Users_Pct')"
   ]
  },
  {
   "cell_type": "markdown",
   "id": "83310547",
   "metadata": {},
   "source": [
    "30. Repeat the steps above to look at the trend for the 5 countries with the lowest 2014 internet usage. Which country has consistently had the least internet use?"
   ]
  },
  {
   "cell_type": "code",
   "execution_count": 51,
   "id": "96d1299d",
   "metadata": {},
   "outputs": [
    {
     "data": {
      "text/html": [
       "<div>\n",
       "<style scoped>\n",
       "    .dataframe tbody tr th:only-of-type {\n",
       "        vertical-align: middle;\n",
       "    }\n",
       "\n",
       "    .dataframe tbody tr th {\n",
       "        vertical-align: top;\n",
       "    }\n",
       "\n",
       "    .dataframe thead th {\n",
       "        text-align: right;\n",
       "    }\n",
       "</style>\n",
       "<table border=\"1\" class=\"dataframe\">\n",
       "  <thead>\n",
       "    <tr style=\"text-align: right;\">\n",
       "      <th></th>\n",
       "      <th>Country</th>\n",
       "      <th>Year</th>\n",
       "      <th>GDP_Per_Capita</th>\n",
       "      <th>Internet_Users_Pct</th>\n",
       "    </tr>\n",
       "  </thead>\n",
       "  <tbody>\n",
       "    <tr>\n",
       "      <th>3087</th>\n",
       "      <td>Timor-Leste</td>\n",
       "      <td>2014</td>\n",
       "      <td>3264.568070</td>\n",
       "      <td>1.14</td>\n",
       "    </tr>\n",
       "    <tr>\n",
       "      <th>540</th>\n",
       "      <td>Burundi</td>\n",
       "      <td>2014</td>\n",
       "      <td>886.235777</td>\n",
       "      <td>1.38</td>\n",
       "    </tr>\n",
       "    <tr>\n",
       "      <th>1261</th>\n",
       "      <td>Guinea</td>\n",
       "      <td>2014</td>\n",
       "      <td>2061.760973</td>\n",
       "      <td>1.72</td>\n",
       "    </tr>\n",
       "    <tr>\n",
       "      <th>2256</th>\n",
       "      <td>Niger</td>\n",
       "      <td>2014</td>\n",
       "      <td>1127.615541</td>\n",
       "      <td>1.95</td>\n",
       "    </tr>\n",
       "    <tr>\n",
       "      <th>2122</th>\n",
       "      <td>Myanmar</td>\n",
       "      <td>2014</td>\n",
       "      <td>4020.037369</td>\n",
       "      <td>2.10</td>\n",
       "    </tr>\n",
       "  </tbody>\n",
       "</table>\n",
       "</div>"
      ],
      "text/plain": [
       "          Country  Year  GDP_Per_Capita  Internet_Users_Pct\n",
       "3087  Timor-Leste  2014     3264.568070                1.14\n",
       "540       Burundi  2014      886.235777                1.38\n",
       "1261       Guinea  2014     2061.760973                1.72\n",
       "2256        Niger  2014     1127.615541                1.95\n",
       "2122      Myanmar  2014     4020.037369                2.10"
      ]
     },
     "execution_count": 51,
     "metadata": {},
     "output_type": "execute_result"
    }
   ],
   "source": [
    "gdp_internet_2014.nsmallest(5, 'Internet_Users_Pct')"
   ]
  },
  {
   "cell_type": "code",
   "execution_count": 52,
   "id": "4b92d8a7",
   "metadata": {},
   "outputs": [],
   "source": [
    "bottomfilter1 = gdp_and_internet_use['Year'].isin(['2004', '2009', '2014'])\n",
    "bottomfilter2 = gdp_and_internet_use['Country'].isin(['Timor-Leste', 'Burundi', 'Guinea', 'Niger', 'Myanmar'])"
   ]
  },
  {
   "cell_type": "code",
   "execution_count": 53,
   "id": "0ea2663b",
   "metadata": {},
   "outputs": [],
   "source": [
    "bottom_5_internet = gdp_and_internet_use[bottomfilter1]\n",
    "bottom_5_internet = gdp_and_internet_use[bottomfilter2]\n",
    "bottom_5_internet = bottom_5_internet.sort_values(by=['Year', 'Country'])"
   ]
  },
  {
   "cell_type": "code",
   "execution_count": 54,
   "id": "acb22bfb",
   "metadata": {},
   "outputs": [
    {
     "data": {
      "text/plain": [
       "<seaborn.axisgrid.FacetGrid at 0x23fc4a701f0>"
      ]
     },
     "execution_count": 54,
     "metadata": {},
     "output_type": "execute_result"
    },
    {
     "data": {
      "image/png": "[encoded data removed]",
      "text/plain": [
       "<Figure size 1080x216 with 5 Axes>"
      ]
     },
     "metadata": {
      "needs_background": "light"
     },
     "output_type": "display_data"
    }
   ],
   "source": [
    "g = sns.FacetGrid(bottom_5_internet, col='Country')\n",
    "g.map(sns.lineplot, 'Year', 'Internet_Users_Pct')"
   ]
  },
  {
   "cell_type": "markdown",
   "id": "7dd2905b",
   "metadata": {},
   "source": [
    "31. Find the top 5 countries for 2014 in terms of GDP per capita; create a DataFrame to look at 10-year trends (use 2004, 2009, 2014 to look at the 10-year trend) in gdp per capita for the 5 countries with the highest 2014 GDP per capita. Use a seaborn facet grid for this."
   ]
  },
  {
   "cell_type": "code",
   "execution_count": 55,
   "id": "052ca6bb",
   "metadata": {},
   "outputs": [
    {
     "name": "stdout",
     "output_type": "stream",
     "text": [
      "             Country  Year  GDP_Per_Capita  Internet_Users_Pct\n",
      "1798      Luxembourg  2014   108760.916030               94.67\n",
      "2542           Qatar  2014    95578.416973               91.49\n",
      "2751       Singapore  2014    87808.663157               82.00\n",
      "372          Bermuda  2014    77361.104881               96.80\n",
      "627   Cayman Islands  2014    66207.447230               74.10\n"
     ]
    }
   ],
   "source": [
    "print(gdp_internet_2014.nlargest(5, 'GDP_Per_Capita'))"
   ]
  },
  {
   "cell_type": "code",
   "execution_count": 56,
   "id": "c028e2f9",
   "metadata": {},
   "outputs": [
    {
     "data": {
      "text/plain": [
       "<seaborn.axisgrid.FacetGrid at 0x23fc4c0b0d0>"
      ]
     },
     "execution_count": 56,
     "metadata": {},
     "output_type": "execute_result"
    },
    {
     "data": {
      "image/png": "[encoded data removed]",
      "text/plain": [
       "<Figure size 1080x216 with 5 Axes>"
      ]
     },
     "metadata": {
      "needs_background": "light"
     },
     "output_type": "display_data"
    }
   ],
   "source": [
    "topgdpfilter1 = gdp_and_internet_use['Year'].isin(['2004', '2009', '2014'])\n",
    "topgdpfilter2 = gdp_and_internet_use['Country'].isin(['Luxembourg', 'Qatar', 'Singapore', 'Bermuda', 'Cayman Islands'])\n",
    "top_5_gdp = gdp_and_internet_use[topgdpfilter1]\n",
    "top_5_gdp = gdp_and_internet_use[topgdpfilter2]\n",
    "top_5_gdp = top_5_gdp.sort_values(by=['Year', 'Country'])\n",
    "g = sns.FacetGrid(top_5_gdp, col='Country')\n",
    "g.map(sns.lineplot, 'Year', 'GDP_Per_Capita')"
   ]
  },
  {
   "cell_type": "markdown",
   "id": "71ef11d4",
   "metadata": {},
   "source": [
    "32. Repeat this one more time to look at 10-year trend for the 5 countries for 2014 with the lowest GDP per capita."
   ]
  },
  {
   "cell_type": "code",
   "execution_count": 57,
   "id": "b6b2d446",
   "metadata": {},
   "outputs": [
    {
     "name": "stdout",
     "output_type": "stream",
     "text": [
      "         Country  Year  GDP_Per_Capita  Internet_Users_Pct\n",
      "540      Burundi  2014      886.235777                1.38\n",
      "1842      Malawi  2014     1027.208496                5.83\n",
      "2256       Niger  2014     1127.615541                1.95\n",
      "2102  Mozambique  2014     1217.090210                5.94\n",
      "3098        Togo  2014     1404.132938                5.70\n"
     ]
    }
   ],
   "source": [
    "print(gdp_internet_2014.nsmallest(5, 'GDP_Per_Capita'))"
   ]
  },
  {
   "cell_type": "code",
   "execution_count": 58,
   "id": "1edcb9dc",
   "metadata": {},
   "outputs": [
    {
     "data": {
      "text/plain": [
       "<seaborn.axisgrid.FacetGrid at 0x23fc5d817f0>"
      ]
     },
     "execution_count": 58,
     "metadata": {},
     "output_type": "execute_result"
    },
    {
     "data": {
      "image/png": "[encoded data removed]",
      "text/plain": [
       "<Figure size 1080x216 with 5 Axes>"
      ]
     },
     "metadata": {
      "needs_background": "light"
     },
     "output_type": "display_data"
    }
   ],
   "source": [
    "bottomgdpfilter1 = gdp_and_internet_use['Year'].isin(['2004', '2009', '2014'])\n",
    "bottomgdpfilter2 = gdp_and_internet_use['Country'].isin(['Burundi', 'Malawi', 'Niger', 'Mozambique', 'Togo'])\n",
    "bottom_5_gdp = gdp_and_internet_use[bottomgdpfilter1]\n",
    "bottom_5_gdp = gdp_and_internet_use[bottomgdpfilter2]\n",
    "bottom_5_gdp = bottom_5_gdp.sort_values(by=['Year', 'Country'])\n",
    "g = sns.FacetGrid(bottom_5_gdp, col='Country')\n",
    "g.map(sns.lineplot, 'Year', 'GDP_Per_Capita')"
   ]
  },
  {
   "cell_type": "markdown",
   "id": "44110598",
   "metadata": {},
   "source": [
    "33. Is there anything surprising or unusual in any of these plots? Searching on the internet, can you find any possible explanations for unusual findings?"
   ]
  },
  {
   "cell_type": "markdown",
   "id": "eb0901db",
   "metadata": {},
   "source": [
    "Togo's GDP per capita went down between 2004 and 2009. Mozambique's GDP per capita has been on a steady, nearly 1:1 linear rise. "
   ]
  }
 ],
 "metadata": {
  "kernelspec": {
   "display_name": "Python 3 (ipykernel)",
   "language": "python",
   "name": "python3"
  },
  "language_info": {
   "codemirror_mode": {
    "name": "ipython",
    "version": 3
   },
   "file_extension": ".py",
   "mimetype": "text/x-python",
   "name": "python",
   "nbconvert_exporter": "python",
   "pygments_lexer": "ipython3",
   "version": "3.9.7"
  }
 },
 "nbformat": 4,
 "nbformat_minor": 5
}
